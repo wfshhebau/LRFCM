{
 "cells": [
  {
   "cell_type": "markdown",
   "metadata": {},
   "source": [
    "chap7 课后操作题2    p219\n",
    "根据篮球运动员的助攻数和得分数的数据分析，划分位置"
   ]
  },
  {
   "cell_type": "code",
   "execution_count": 10,
   "metadata": {},
   "outputs": [
    {
     "name": "stdout",
     "output_type": "stream",
     "text": [
      "features: Index(['num', 'assists', 'points'], dtype='object')\n",
      "explore:\n",
      "          count       mean       std     min     25%      50%      75%      max\n",
      "num       21.0  11.000000  6.204837  1.0000  6.0000  11.0000  16.0000  21.0000\n",
      "assists   21.0   0.147271  0.059957  0.0494  0.1061   0.1276   0.1906   0.2521\n",
      "points    21.0   0.527976  0.097964  0.3788  0.4770   0.5276   0.5735   0.8291\n"
     ]
    }
   ],
   "source": [
    "# -*- coding: utf-8 -*-\n",
    "import numpy as np  \n",
    "import pandas as pd\n",
    "import matplotlib.pyplot as plt  \n",
    "from sklearn.cluster import KMeans\n",
    "\n",
    "# s1.读取数据,数据探索\n",
    "data = pd.read_csv(\"./dataChap7/basketballData.csv\")\n",
    "features = data.columns\n",
    "print(\"features:\",features)\n",
    "columnsore = data.describe().T\n",
    "print(\"explore:\\n\",explore)"
   ]
  },
  {
   "cell_type": "code",
   "execution_count": null,
   "metadata": {},
   "outputs": [],
   "source": [
    "# s2.选取特征数据\n",
    "#X = data.iloc[:,1:]\n",
    "X = data[[\"assists\",\"points\"]]\n",
    "print(\"type(X):\",type(X))\n",
    "print(\"X:\\n\",X)"
   ]
  },
  {
   "cell_type": "code",
   "execution_count": null,
   "metadata": {},
   "outputs": [],
   "source": [
    "# s3.K-means聚类\n",
    "#设置类别数为5，构建并训练模型\n",
    "clf = KMeans(n_clusters=5,random_state=110).fit(X)\n",
    "\n",
    "# 使用模型预测\n",
    "y_pred = clf.fit_predict(X)  \n",
    "print(y_pred)  #输出结果"
   ]
  },
  {
   "cell_type": "code",
   "execution_count": 26,
   "metadata": {},
   "outputs": [
    {
     "name": "stdout",
     "output_type": "stream",
     "text": [
      "labels: [0 2 3 0 0 4 4 0 1 3 1 3 0 3 1 0 3 4 0 3 1]\n",
      "clusters: {0, 1, 2, 3, 4}\n",
      "dataResult.shape: (5, 4)\n",
      "  Category  SampleSize  assists_Center  points_Center\n",
      "0   Class0           7        0.099271       0.577986\n",
      "1   Class1           4        0.230050       0.409700\n",
      "2   Class2           1        0.139900       0.829100\n",
      "3   Class3           6        0.121317       0.481517\n",
      "4   Class4           3        0.203267       0.561533\n"
     ]
    }
   ],
   "source": [
    "# s4.获取K-means聚类属性\n",
    "labels = clf.labels_         #所有样本的类别标签\n",
    "clusters = set(labels)       #类别数\n",
    "print(\"labels:\",labels)\n",
    "print(\"clusters:\",clusters)\n",
    "myCenter = pd.DataFrame(clf.cluster_centers_)    #聚类中心\n",
    "myCount = pd.Series(clf.labels_).value_counts()  #统计每个类别中样本数目\n",
    "myClass = pd.Series(['Class'+ str(i) for i in range(5)]) #k=5\n",
    "dataResult  = pd.concat([myClass,myCount,myCenter],axis=1)\n",
    "columnsCenter = [col+\"_Center\" for col in data.columns[1:]]  #列标不包括第一列\n",
    "dataResult.columns = [\"Category\",\"SampleSize\"] + columnsCenter    #新加样本数量和聚类类别系列名\n",
    "\n",
    "print(\"dataResult.shape:\",dataResult.shape)\n",
    "print(dataResult)\n"
   ]
  },
  {
   "cell_type": "code",
   "execution_count": 29,
   "metadata": {},
   "outputs": [
    {
     "data": {
      "image/png": "[encoded data removed]",
      "text/plain": [
       "<Figure size 432x288 with 1 Axes>"
      ]
     },
     "metadata": {
      "needs_background": "light"
     },
     "output_type": "display_data"
    }
   ],
   "source": [
    "#s5: 可视化操作\n",
    "#绘制散点图（scatter），横轴为x，获取的第1列数据；纵轴为y，获取的第2列数据；\n",
    "#c=y_pred对聚类的预测结果画出散点图，marker='o'说明用点表示图形\n",
    "x = X[\"assists\"]  #获取第1列的值\n",
    "#print(x)  \n",
    "y = X[\"points\"]  #获取第2列的值\n",
    "#print(y)\n",
    "\n",
    "plt.scatter(x, y, c=y_pred, marker='o')\n",
    "plt.title(\"Kmeans-Basketball Data\")  #表示图形的标题为Kmeans-heightweight Data\n",
    "plt.xlabel(\"assists\")  #表示图形x轴的标题\n",
    "plt.ylabel(\"points\")   #表示图形y轴的标题\n",
    "plt.legend([\"Rank\"])  #设置右上角图例\n",
    "plt.show()  #显示图形"
   ]
  },
  {
   "cell_type": "code",
   "execution_count": 31,
   "metadata": {},
   "outputs": [
    {
     "name": "stdout",
     "output_type": "stream",
     "text": [
      "dataWithCluster.shape: (21, 4)\n"
     ]
    }
   ],
   "source": [
    "#s6:完善源数据，为数据添加类别标签\n",
    "labels = clf.labels_ \n",
    "clusterLabels = pd.Series(labels,index=data.index)    #创建类别系列\n",
    "dataWithCluster = pd.concat([data,clusterLabels],axis=1)  #合并类别系列\n",
    "dataWithCluster.columns = list(data.columns) + [\"Category\"] #添加系列名称\n",
    "print(\"dataWithCluster.shape:\",dataWithCluster.shape)\n",
    "file = \"./dataChap7/basketballDataCluster.csv\"\n",
    "dataWithCluster.to_csv(file,sep=\",\",index=False)   #写入文件\n"
   ]
  },
  {
   "cell_type": "code",
   "execution_count": 32,
   "metadata": {},
   "outputs": [
    {
     "name": "stdout",
     "output_type": "stream",
     "text": [
      "(7, 4)\n",
      "{0, 1, 2, 3, 4}\n",
      "basketballDataCategory files done,check ./temp/\n"
     ]
    }
   ],
   "source": [
    "#s7: 按类别分解dataWithCluster.csv -> 多个类别的csv中\n",
    "\n",
    "#以类0为例\n",
    "dataCluster0 = dataWithCluster.loc[dataWithCluster[\"Category\"]==0]\n",
    "print(dataCluster0.shape)\n",
    "\n",
    "clusters = set(dataWithCluster[\"Category\"])  #获取类别\n",
    "print(clusters)\n",
    "\n",
    "#使用循环实现\n",
    "for c in clusters:\n",
    "    dataCluster = dataWithCluster.loc[dataWithCluster[\"Category\"]==c]\n",
    "    file = \"./temp/basketballDataCategory\" + str(c) + \".csv\"\n",
    "    dataCluster.to_csv(file,sep=\",\")\n",
    "print(\"basketballDataCategory files done,check ./temp/\")"
   ]
  },
  {
   "cell_type": "code",
   "execution_count": null,
   "metadata": {},
   "outputs": [],
   "source": []
  }
 ],
 "metadata": {
  "kernelspec": {
   "display_name": "Python 3",
   "language": "python",
   "name": "python3"
  },
  "language_info": {
   "codemirror_mode": {
    "name": "ipython",
    "version": 3
   },
   "file_extension": ".py",
   "mimetype": "text/x-python",
   "name": "python",
   "nbconvert_exporter": "python",
   "pygments_lexer": "ipython3",
   "version": "3.7.1"
  },
  "toc": {
   "base_numbering": 1,
   "nav_menu": {},
   "number_sections": true,
   "sideBar": true,
   "skip_h1_title": false,
   "title_cell": "Table of Contents",
   "title_sidebar": "Contents",
   "toc_cell": false,
   "toc_position": {},
   "toc_section_display": true,
   "toc_window_display": false
  }
 },
 "nbformat": 4,
 "nbformat_minor": 2
}
