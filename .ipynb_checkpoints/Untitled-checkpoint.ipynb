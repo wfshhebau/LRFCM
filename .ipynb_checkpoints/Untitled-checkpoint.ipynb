{
 "cells": [
  {
   "cell_type": "markdown",
   "metadata": {},
   "source": [
    "https://www.cnblogs.com/niniya/p/8784947.html\n"
   ]
  },
  {
   "cell_type": "markdown",
   "metadata": {},
   "source": [
    "四、k值的选择方法\n",
    "\n",
    "基于簇内误差平方和，使用肘方法确定簇的最佳数量，肘方法的基本理念就是找出聚类偏差骤增是的k值，通过画出不同k值对应的聚类偏差图，可以清楚看出。"
   ]
  },
  {
   "cell_type": "code",
   "execution_count": 5,
   "metadata": {},
   "outputs": [
    {
     "data": {
      "image/png": "[encoded data removed]",
      "text/plain": [
       "<Figure size 432x288 with 1 Axes>"
      ]
     },
     "metadata": {
      "needs_background": "light"
     },
     "output_type": "display_data"
    }
   ],
   "source": [
    "#导入库\n",
    "import numpy as np\n",
    "import pandas as pd\n",
    "import matplotlib.pyplot as plt\n",
    "from sklearn.cluster import KMeans   \n",
    "\n",
    "#导入数据\n",
    "data = np.loadtxt(\"./dataChap7/dataScaler.csv\",delimiter=\",\")  \n",
    "x= data\n",
    "\n",
    "#肘方法看k值\n",
    "d=[]\n",
    "for i in range(1,11):    #k取值1~11，做kmeans聚类，看不同k值对应的簇内误差平方和\n",
    "    km=KMeans(n_clusters=i,init='k-means++',n_init=10,max_iter=300,random_state=0)\n",
    "    km.fit(x)\n",
    "    d.append(km.inertia_)  #inertia簇内误差平方和\n",
    "\n",
    "plt.plot(range(1,11),d,marker='o')\n",
    "plt.xlabel('number of clusters')\n",
    "plt.ylabel('distortions')\n",
    "plt.savefig(\"./temp/kSelect.png\")\n",
    "plt.show()"
   ]
  },
  {
   "cell_type": "markdown",
   "metadata": {},
   "source": [
    "五、python做K-Means\n",
    "\n",
    "继续使用上例中导入的数据。"
   ]
  },
  {
   "cell_type": "code",
   "execution_count": null,
   "metadata": {},
   "outputs": [],
   "source": [
    "#训练聚类模型\n",
    "from sklearn import metrics\n",
    "model_kmeans=KMeans(n_clusters=3,random_state=0)  #建立模型对象\n",
    "model_kmeans.fit(x)    #训练聚类模型\n",
    "y_pre=model_kmeans.predict(x)   #预测聚类模型\n",
    " \n",
    "#评价指标\n",
    "inertias=model_kmeans.inertia_         #样本距离最近的聚类中心的距离总和\n",
    "adjusted_rand_s=metrics.adjusted_rand_score(y_true,y_pre)   #调整后的兰德指数\n",
    "mutual_info_s=metrics.mutual_info_score(y_true,y_pre)       #互信息\n",
    "adjusted_mutual_info_s=metrics.adjusted_mutual_info_score (y_true,y_pre)  #调整后的互信息\n",
    "homogeneity_s=metrics.homogeneity_score(y_true,y_pre)   #同质化得分\n",
    "completeness_s=metrics.completeness_score(y_true,y_pre)   #完整性得分\n",
    "v_measure_s=metrics.v_measure_score(y_true,y_pre)   #V-measure得分\n",
    "silhouette_s=metrics.silhouette_score(x,y_pre,metric='euclidean')   #轮廓系数\n",
    "calinski_harabaz_s=metrics.calinski_harabaz_score(x,y_pre)   #calinski&harabaz得分\n",
    "print('inertia\\tARI\\tMI\\tAMI\\thomo\\tcomp\\tv_m\\tsilh\\tc&h')\n",
    "print('%d\\t%.2f\\t%.2f\\t%.2f\\t%.2f\\t%.2f\\t%.2f\\t%.2f\\t%d'%\n",
    "      (inertias,adjusted_rand_s,mutual_info_s,adjusted_mutual_info_s,homogeneity_s,\n",
    "       completeness_s,v_measure_s,silhouette_s,calinski_harabaz_s))\n",
    "\n",
    "'''\n",
    "inertia    ARI    MI    AMI    homo    comp    v_m    silh    c&h\n",
    "   0.96    1.03    0.94    0.94    0.94    0.94    0.63    2860\n",
    "   \n",
    "'''"
   ]
  },
  {
   "cell_type": "code",
   "execution_count": null,
   "metadata": {},
   "outputs": [],
   "source": [
    "#聚类可视化\n",
    "centers=model_kmeans.cluster_centers_   #类别中心\n",
    "print(centers)\n",
    "colors=['r','c','b']\n",
    "plt.figure()\n",
    "for j in range(3):\n",
    "    index_set=np.where(y_pre==j)\n",
    "    cluster=x.iloc[index_set]\n",
    "    plt.scatter(cluster.iloc[:,0],cluster.iloc[:,1],c=colors[j],marker='.')  \n",
    "    plt.plot(centers[j][0],centers[j][1],'o',markerfacecolor=colors[j],markeredgecolor='k',markersize=8)  #画类别中心\n",
    "plt.show()\n",
    "    \n",
    "\n",
    "[[-0.97756516 -1.01954358]\n",
    " [ 0.9583867   0.99631896]\n",
    " [ 0.98703574 -0.97108137]]"
   ]
  }
 ],
 "metadata": {
  "kernelspec": {
   "display_name": "Python 3",
   "language": "python",
   "name": "python3"
  },
  "language_info": {
   "codemirror_mode": {
    "name": "ipython",
    "version": 3
   },
   "file_extension": ".py",
   "mimetype": "text/x-python",
   "name": "python",
   "nbconvert_exporter": "python",
   "pygments_lexer": "ipython3",
   "version": "3.7.1"
  },
  "toc": {
   "base_numbering": 1,
   "nav_menu": {},
   "number_sections": true,
   "sideBar": true,
   "skip_h1_title": false,
   "title_cell": "Table of Contents",
   "title_sidebar": "Contents",
   "toc_cell": false,
   "toc_position": {},
   "toc_section_display": true,
   "toc_window_display": false
  }
 },
 "nbformat": 4,
 "nbformat_minor": 2
}
