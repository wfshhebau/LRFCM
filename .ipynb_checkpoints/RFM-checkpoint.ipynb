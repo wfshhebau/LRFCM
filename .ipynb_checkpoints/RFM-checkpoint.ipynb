{
 "cells": [
  {
   "cell_type": "markdown",
   "metadata": {},
   "source": [
    "# 航空公司客户价值分析  \n",
    "数据：air_data  \n",
    "模型：LRFMC  \n",
    "算法：K-Means  \n",
    "\n",
    "**学习目标：**\n",
    " 1. 熟悉客户价值分析的步骤和流程\n",
    " 2. 了解RFM模型的基本原理\n",
    " 3. 掌握K-Means算法的基本原理和使用方法\n",
    " 4. 从分类的客户信息中提炼客户价值，以制定相应的营销策略  \n",
    " \n",
    "**任务描述：**\n",
    "1. 借助航空公司客户数据，对客户进行分类。\n",
    "2. 对不同的客户类别进行特征分析，比较不同类别客户的客户价值。\n",
    "3. 对不同价值的客户类别提供个性化服务，制定相应的营销策略。"
   ]
  },
  {
   "cell_type": "markdown",
   "metadata": {},
   "source": [
    "# 1 客户价值分析"
   ]
  },
  {
   "cell_type": "markdown",
   "metadata": {},
   "source": [
    "## 1.1 认识客户价值分析\n",
    "客户营销战略倡导者Jay & Adam Curry从国外数百家公司进行了客户营销实施的经验中提炼了如下经验!\n",
    "+ 公司收入的80%来自顶端的20%的客户。\n",
    "+ 20%的客户其利润率100%。\n",
    "+ 90%以上的收入来自现有客户。\n",
    "+ 大部分的营销预算经常被用在非现有客户上。\n",
    "+ 5%至30%的客户在客户金字塔中具有升级潜力。\n",
    "+ 客户金字塔中客户升级2%，意味着销售收入增加10%，利润增加50%。  \n",
    "这些经验也许并不完全准确，但它揭示了新时代客户分化的趋势，也说明了对客户价值分析的迫切性和必要性。"
   ]
  },
  {
   "cell_type": "markdown",
   "metadata": {},
   "source": [
    "## 1.2 客户价值分析的步骤和流程"
   ]
  },
  {
   "cell_type": "markdown",
   "metadata": {},
   "source": [
    "![title](./imgChap7/Fig7_1.png)"
   ]
  },
  {
   "cell_type": "markdown",
   "metadata": {},
   "source": [
    "4个步骤：\n",
    "1. 抽取航空公司20120401至20140331间的数据\n",
    "2. 对数据进行预处理：数据清洗，特征构建和数据标准化等操作\n",
    "3. 基于RFM模型，使用KMeans算法进行客户分群\n",
    "4. 针对模型结果得到的不同客户群，分析客户价值，制定对应的定制化营销方案"
   ]
  },
  {
   "cell_type": "markdown",
   "metadata": {},
   "source": [
    "# 2 预处理客户数据"
   ]
  },
  {
   "cell_type": "markdown",
   "metadata": {},
   "source": [
    "## 2.1 数据探索"
   ]
  },
  {
   "cell_type": "code",
   "execution_count": 1,
   "metadata": {},
   "outputs": [
    {
     "name": "stdout",
     "output_type": "stream",
     "text": [
      "airSource.shape: (62988, 44)\n",
      "                   count unique        top   freq     mean       std  min  \\\n",
      "MEMBER_NO          62988    NaN        NaN    NaN  31494.5   18183.2    1   \n",
      "FFP_DATE           62988   3068  2011/1/13    184      NaN       NaN  NaN   \n",
      "FIRST_FLIGHT_DATE  62988   3406  2013/2/16     96      NaN       NaN  NaN   \n",
      "GENDER             62985      2          男  48134      NaN       NaN  NaN   \n",
      "FFP_TIER           62988    NaN        NaN    NaN  4.10216  0.373856    4   \n",
      "\n",
      "                       25%      50%      75%    max  \n",
      "MEMBER_NO          15747.8  31494.5  47241.2  62988  \n",
      "FFP_DATE               NaN      NaN      NaN    NaN  \n",
      "FIRST_FLIGHT_DATE      NaN      NaN      NaN    NaN  \n",
      "GENDER                 NaN      NaN      NaN    NaN  \n",
      "FFP_TIER                 4        4        4      6  \n"
     ]
    }
   ],
   "source": [
    "import numpy as np\n",
    "import pandas as pd\n",
    "airSource = pd.read_csv(\"./dataChap7/air_data.csv\",sep=',',encoding=\"gb18030\")\n",
    "print(\"airSource.shape:\",airSource.shape)\n",
    "#探索分析S1：数据描述\n",
    "explore = airSource.describe(include='all').T\n",
    "print(explore.head(5))"
   ]
  },
  {
   "cell_type": "code",
   "execution_count": 2,
   "metadata": {},
   "outputs": [
    {
     "name": "stdout",
     "output_type": "stream",
     "text": [
      "                  null  min    max\n",
      "MEMBER_NO            0    1  62988\n",
      "FFP_DATE             0  NaN    NaN\n",
      "FIRST_FLIGHT_DATE    0  NaN    NaN\n",
      "GENDER               3  NaN    NaN\n",
      "FFP_TIER             0    4      6\n"
     ]
    }
   ],
   "source": [
    "##探索分析S2：关键信息描述\n",
    "#关键信息：空值(缺失值)信息，极值等\n",
    "explore['null'] = len(airSource) - explore['count']\n",
    "print(explore[['null','min','max']].head(5))"
   ]
  },
  {
   "cell_type": "code",
   "execution_count": null,
   "metadata": {},
   "outputs": [],
   "source": [
    "##探索分析S3：直接统计空值(缺失值)信息\n",
    "nullDetail = airSource.isnull().sum()    #对缺失值进行统计\n",
    "print(\"nullDetail:\",nullDetail)"
   ]
  },
  {
   "cell_type": "markdown",
   "metadata": {},
   "source": [
    "**通过explore获知：**\n",
    "**原始数据中包含40多个特征的6万条记录(62988, 44)，利用这些特征做些什么呢？我们又该从哪些角度出发呢？  \n",
    "首先需要了解特征的意义：客户基本信息；乘机信息；积分信息等**     \n",
    "票价收入：SUM_YR_1，SUM_YR_2；平均折扣：avg_discount；飞行里程：SEG_KM_SUM；总积分：Points_Sum \n",
    "\n",
    "**通过概览数据我们发现航空公司客户原始数据存在少量的缺失值和异常值，需要清洗后才能用于分析**  \n",
    "1. 存在票价为空值的记录，可能是客户不存在乘机记录造成的。   \n",
    "2. 存在票价值为0，但总飞行公里数大于0的记录，可能是客户积分兑换造成。  \n",
    "3. 存在折扣率值为0，但总飞行公里数大于0的记录，可能是客户乘坐0折机票造成\n",
    "由于原始数据量大，这类数据所占比例较小，对于问题影响不大，因此对其进行丢弃处理。\n",
    "\n",
    "**处理方法：**  \n",
    "1. 丢弃票价为空的记录,即保留票价不为空记录：data['SUM_YR_1'].notnull(),data['SUM_YR_2'].notnull()\n",
    "2. 丢弃票价为0，总飞行公里数大于0的记录;丢弃平均折扣率为0，总飞行公里数大于0的记录  即保留票价非零、平均折扣非零且飞行里程大于零的记录.  \n",
    "(data[\"SUM_YR_1\"]!=0 | data[\"SUM_YR_2\"]!=0) & data[avg_discount]!=0 & data[SEG_KM_SUM]>0"
   ]
  },
  {
   "cell_type": "markdown",
   "metadata": {},
   "source": [
    "## 2.2 数据预处理\n",
    "**任务步骤**\n",
    "1. 数据清洗：处理数据缺失值和异常值\n",
    "2. 结合RFM模型筛选特征 -> 构建LRFMC模型\n",
    "3. 标准化LRFMC模型数据"
   ]
  },
  {
   "cell_type": "markdown",
   "metadata": {},
   "source": [
    "### 2.2.1 数据清洗：缺失值/异常值处理"
   ]
  },
  {
   "cell_type": "code",
   "execution_count": 4,
   "metadata": {},
   "outputs": [
    {
     "name": "stdout",
     "output_type": "stream",
     "text": [
      "airSource.shape: (62988, 44)\n",
      "airNotNull.shape: (62299, 44)\n",
      "airDataPre.shape: (62044, 44)\n"
     ]
    }
   ],
   "source": [
    "#数据清洗\n",
    "print(\"airSource.shape:\",airSource.shape)\n",
    "#1.剔除缺失值\n",
    "#丢弃票价为null的记录\n",
    "notNullInd1 = airSource[\"SUM_YR_1\"].notnull()\n",
    "notNullInd2 = airSource[\"SUM_YR_2\"].notnull()\n",
    "notNullInd = notNullInd1 & notNullInd2\n",
    "airNotNull = airSource.loc[notNullInd,:]  #airNotNull = airSource[notNullInd]\n",
    "#print(\"type(airNotNull)\",type(airNotNull))\n",
    "print(\"airNotNull.shape:\",airNotNull.shape)\n",
    "#print(\"airNotNull.head(3):\\n\",airNotNull.iloc[:3,:5])\n",
    "\n",
    "#2.剔除异常值\n",
    "notZero1 = (airNotNull[\"SUM_YR_1\"] != 0) | (airNotNull[\"SUM_YR_2\"] != 0)\n",
    "notZero2 = airNotNull[\"avg_discount\"] != 0 \n",
    "notZero = notZero1 & notZero2\n",
    "#print(\"notZero[:5]:\\n\",notZero[:5])\n",
    "graterZero = airNotNull[\"SEG_KM_SUM\"] > 0 \n",
    "index = notZero & graterZero\n",
    "#print(\"index[:5]:\\n\",index[:5])\n",
    "airDataPre = airNotNull.loc[index,:]   # airDataPre = airNotNull[index]\n",
    "print(\"airDataPre.shape:\",airDataPre.shape)\n",
    "#print(\"airDataPre.tail(3):\\n\",airDataPre.iloc[-3:,:5])\n",
    "airDataPre.to_csv(\"./dataChap7/airDataPre.csv\",sep=',',index=False,encoding=\"gb18030\")  #保存airData数据到文件airDataPre"
   ]
  },
  {
   "cell_type": "code",
   "execution_count": 5,
   "metadata": {},
   "outputs": [
    {
     "name": "stdout",
     "output_type": "stream",
     "text": [
      "airCleanData.shape: (62051, 44)\n"
     ]
    }
   ],
   "source": [
    "#2.第二种方法，剔除异常值\n",
    "#丢弃票价为0，平均折扣率不为0,总飞行里程>0的记录\n",
    "#与(&) ; 或(|) ； 取反(~)\n",
    "index1 = (airNotNull[\"SUM_YR_1\"] == 0) & (airNotNull[\"SUM_YR_2\"] == 0)  #括号必须有\n",
    "index2 = airNotNull[\"avg_discount\"] != 0 \n",
    "index3 = airNotNull[\"SEG_KM_SUM\"] > 0 \n",
    "index = ~(index1 & index2 & index3)\n",
    "airCleanData = airNotNull[index]\n",
    "print(\"airCleanData.shape:\",airCleanData.shape)\n",
    "#print(\"airCleanData.tail(3):\\n\",airCleanData.iloc[-3:,:5])\n",
    "airCleanData.to_csv(\"./dataChap7/airCleanData.csv\",sep=',',index=False,encoding=\"gb18030\")  "
   ]
  },
  {
   "cell_type": "markdown",
   "metadata": {},
   "source": [
    "**说明：以上两种剔除异常值操作采用的规则不同所以得出的结果也不一样，后续操作所用数据为airDataPre**"
   ]
  },
  {
   "cell_type": "markdown",
   "metadata": {},
   "source": [
    "### 2.2.2 选择特征并构建LRFMC模型"
   ]
  },
  {
   "cell_type": "markdown",
   "metadata": {},
   "source": [
    "1. RFM模型介绍  \n",
    "识别客户价值应用最广泛的模型是RFM模型。  \n",
    "\n",
    "● R（Recency）:时近效应，指最近一次消费时间与截止时间的间隔。间隔越短，对提供的商品或是服务最有可能感兴趣。  \n",
    "● F（Frequency）：频次效应，指顾客在某段时间内所消费的次数。频率越高的顾客其忠诚度也就越高，顾客价值也就越大。  \n",
    "● M（Monetary）：能力效应，指顾客在某段时间内所消费的金额。金额越大表明其消费能力越大，这就是所谓“20%的顾客贡献了80%的销售额”的二八法则。"
   ]
  },
  {
   "cell_type": "markdown",
   "metadata": {},
   "source": [
    "2. RFM模型结果解读  \n",
    "RFM模型包括三个特征，使用三维坐标系进行展示，如图所示。  \n",
    "X轴表示Recency，Y轴表示Frequency，Z轴表示Monetary，每个轴一般会分成5级表示程度，1为最小，5为最大。"
   ]
  },
  {
   "cell_type": "markdown",
   "metadata": {},
   "source": [
    "![title](./imgChap7/Fig7_2.png)"
   ]
  },
  {
   "cell_type": "markdown",
   "metadata": {},
   "source": [
    "3. 传统RFM模型在航空行业的缺陷与优化  \n",
    "● 在RFM模型中，消费金额是一段时间内客户购买产品金额的总和，在航空业，其实同样消费金额的旅客对航空公司的价值是不同的，例如：购买长航线低仓位的与短航线高仓位的旅客相比，对公司而言，显然后者价值更高。因此M特征需要优化，这里采用飞行总里程M和客户的相应的折扣系数C两个特征来代替消费金额。M相同的情况下，C值越大价值越高  \n",
    "● 会员入会时间长短在一定程度上影响客户的价值，因此增加客户关系长度L特征，L越大价值越高"
   ]
  },
  {
   "cell_type": "markdown",
   "metadata": {},
   "source": [
    "4. 航空客户价值分析的LRFMC模型  \n",
    "将客户关系长度L，消费时间间隔R，消费频率F，飞行里程M和折扣系数的平均值C作为航空公司识别客户价值的关键特征（如表所示），记为LRFMC模型。"
   ]
  },
  {
   "cell_type": "markdown",
   "metadata": {},
   "source": [
    "模型 | L | R | F | M | C | \n",
    "-:|-:|-:|-:|-:|-:|\n",
    "LRFMC|会员入会时间距观测窗口结束的月数|客户最近一次飞行距观测窗口结束的月数|客户在观测窗口内乘坐飞机的次数|客户在观测窗口内累计的飞行里程|客户在观测窗口期内乘坐舱位对应的折扣系统平均值|"
   ]
  },
  {
   "cell_type": "markdown",
   "metadata": {},
   "source": [
    "由于原始数据中并没直接给出LRFMC模型的5个特征，需要从原始数据的提取出这5个特征：  \n",
    "(1)  L = 观测窗口结束时间 - 入会时间(单位：月数)：  L = LOAD_TIME - FFP_DATE  \n",
    "(2)  R = 最后一次乘机时间至观测窗口末端时长(单位：月数)：  R = LAST_TO_END\n",
    "(3)  F = 观测窗口期内的飞行次数(单位：次)：  F = FLIGHT_COUNT\n",
    "(2)  M = 观测窗口期内的飞行里程(单位：千米)： M = SEG_KM_SUM\n",
    "(2)  C = 观测窗口期内的平均折扣率(单位：无)： C = avg_discount"
   ]
  },
  {
   "cell_type": "code",
   "execution_count": 6,
   "metadata": {},
   "outputs": [
    {
     "name": "stdout",
     "output_type": "stream",
     "text": [
      "feature:\n",
      " Index(['MEMBER_NO', 'FFP_DATE', 'FIRST_FLIGHT_DATE', 'GENDER', 'FFP_TIER',\n",
      "       'WORK_CITY', 'WORK_PROVINCE', 'WORK_COUNTRY', 'AGE', 'LOAD_TIME',\n",
      "       'FLIGHT_COUNT', 'BP_SUM', 'EP_SUM_YR_1', 'EP_SUM_YR_2', 'SUM_YR_1',\n",
      "       'SUM_YR_2', 'SEG_KM_SUM', 'WEIGHTED_SEG_KM', 'LAST_FLIGHT_DATE',\n",
      "       'AVG_FLIGHT_COUNT', 'AVG_BP_SUM', 'BEGIN_TO_FIRST', 'LAST_TO_END',\n",
      "       'AVG_INTERVAL', 'MAX_INTERVAL', 'ADD_POINTS_SUM_YR_1',\n",
      "       'ADD_POINTS_SUM_YR_2', 'EXCHANGE_COUNT', 'avg_discount',\n",
      "       'P1Y_Flight_Count', 'L1Y_Flight_Count', 'P1Y_BP_SUM', 'L1Y_BP_SUM',\n",
      "       'EP_SUM', 'ADD_Point_SUM', 'Eli_Add_Point_Sum', 'L1Y_ELi_Add_Points',\n",
      "       'Points_Sum', 'L1Y_Points_Sum', 'Ration_L1Y_Flight_Count',\n",
      "       'Ration_P1Y_Flight_Count', 'Ration_P1Y_BPS', 'Ration_L1Y_BPS',\n",
      "       'Point_NotFlight'],\n",
      "      dtype='object')\n",
      "L[:2]:\n",
      " 0   2706 days\n",
      "1   2597 days\n",
      "dtype: timedelta64[ns]\n",
      "L1[:2]:\n",
      " 0    2706 days 00:00:00.000000000\n",
      "1    2597 days 00:00:00.000000000\n",
      "dtype: object\n",
      "L2[:2]:\n",
      " 0    [2706, days, 00:00:00.000000000]\n",
      "1    [2597, days, 00:00:00.000000000]\n",
      "dtype: object\n",
      "L3[:2]:\n",
      " 0    2706\n",
      "1    2597\n",
      "dtype: object\n",
      "L4[:2]:\n",
      " 0    2706\n",
      "1    2597\n",
      "dtype: int32\n",
      "L[:2]:\n",
      " 0    90.200000\n",
      "1    86.566667\n",
      "dtype: float64\n",
      "airLRFMC.shape: (62044, 5)\n",
      "airLRFMC.head(3):\n",
      "            0  LAST_TO_END  FLIGHT_COUNT  SEG_KM_SUM  avg_discount\n",
      "0  90.200000            1           210      580717      0.961639\n",
      "1  86.566667            7           140      293678      1.252314\n",
      "2  87.166667           11           135      283712      1.254676\n",
      "airLRFMC.head(3):\n",
      "            L   R    F       M         C\n",
      "0  90.200000   1  210  580717  0.961639\n",
      "1  86.566667   7  140  293678  1.252314\n",
      "2  87.166667  11  135  283712  1.254676\n"
     ]
    }
   ],
   "source": [
    "#选取并构建LRFMC模型\n",
    "feature =  airDataPre.columns\n",
    "print(\"feature:\\n\",feature)\n",
    "# s1：选择所需特征\n",
    "airDataSelect = airDataPre[['LOAD_TIME','FFP_DATE','LAST_TO_END','FLIGHT_COUNT','SEG_KM_SUM','avg_discount']] \n",
    "# s2：构建L特征\n",
    "loadTime = pd.to_datetime(airDataSelect['LOAD_TIME'])\n",
    "ffpTime = pd.to_datetime(airDataSelect['FFP_DATE'])\n",
    "L = loadTime - ffpTime     #得出天数,结果如：2706 days,需要转成月数\n",
    "print(\"L[:2]:\\n\",L[:2])\n",
    "L1 = L.astype(\"str\")\n",
    "print(\"L1[:2]:\\n\",L1[:2])\n",
    "L2 = L1.str.split()\n",
    "print(\"L2[:2]:\\n\",L2[:2])\n",
    "L3 = L2.str[0]\n",
    "print(\"L3[:2]:\\n\",L3[:2])     \n",
    "L4 = L3.astype(\"int\")\n",
    "print(\"L4[:2]:\\n\",L4[:2]) \n",
    "L = L4 / 30                #转换成了月数\n",
    "print(\"L[:2]:\\n\",L[:2])   \n",
    "\n",
    "# s3：合并特征\n",
    "#L.name = 'L'  #给L系列加名称\n",
    "airLRFMC = pd.concat([L,airDataSelect.iloc[:,2:]],axis=1)   #'L','LAST_TO_END','FLIGHT_COUNT','SEG_KM_SUM','avg_discount'\n",
    "print(\"airLRFMC.shape:\",airLRFMC.shape)\n",
    "print(\"airLRFMC.head(3):\\n\",airLRFMC.head(3))\n",
    "\n",
    "# s4：修改特征名称(列名称)\n",
    "    # 采用字典形式修改系列名称，“原名”:“新名”。\n",
    "    # 注意：若原系列没有名称，则pd默认使用位置，即0,1,2..，采用0:“新名”;1:\"新名\"形式\n",
    "    # 综上，可以采用混合模式对所有系列进行重命名\n",
    "airLRFMC.rename(columns={ 0:'L', \n",
    "                         'LAST_TO_END':'R', \n",
    "                         'FLIGHT_COUNT':'F',\n",
    "                         'SEG_KM_SUM':'M',\n",
    "                         'avg_discount':'C',\n",
    "                        }, inplace = True)\n",
    "print(\"airLRFMC.head(3):\\n\",airLRFMC.head(3))\n",
    "\n",
    "# s5：保存特征数据到文件\n",
    "airLRFMC.to_csv(\"./dataChap7/airLRFMC.csv\",sep=\",\",index=False,encoding=\"gb18030\")  #index=False 不要行名"
   ]
  },
  {
   "cell_type": "markdown",
   "metadata": {},
   "source": [
    "**下段代码实现上面同样功能，即选取有效特征并构建LRFMC的DF,  但 Pythonnic编程，you will fell so nice！**"
   ]
  },
  {
   "cell_type": "code",
   "execution_count": 7,
   "metadata": {},
   "outputs": [
    {
     "name": "stdout",
     "output_type": "stream",
     "text": [
      "dataLRFMC.head(3):\n",
      "           L   R    F       M         C\n",
      "0 2706 days   1  210  580717  0.961639\n",
      "1 2597 days   7  140  293678  1.252314\n",
      "2 2615 days  11  135  283712  1.254676\n",
      "dataLRFMC['L'][:3]:\n",
      " 0   2706 days\n",
      "1   2597 days\n",
      "2   2615 days\n",
      "Name: L, dtype: timedelta64[ns]\n",
      "type(dayTime): <class 'numpy.timedelta64'>\n",
      "dataLRFMC['L'][:3]:\n",
      " 0    2706\n",
      "1    2597\n",
      "2    2615\n",
      "Name: L, dtype: int32\n",
      "dataLRFMC.head(3):\n",
      "       L   R    F       M         C\n",
      "0  2706   1  210  580717  0.961639\n",
      "1  2597   7  140  293678  1.252314\n",
      "2  2615  11  135  283712  1.254676\n"
     ]
    }
   ],
   "source": [
    "import pandas as pd\n",
    "\n",
    "dataLRFMC = pd.DataFrame(columns=['L','R','F','M','C'])\n",
    "tmp = {\n",
    "    'L':pd.to_datetime(airDataPre['LOAD_TIME']) - pd.to_datetime(airDataPre['FFP_DATE']),\n",
    "    'R':airDataPre['LAST_TO_END'],\n",
    "    'F':airDataPre['FLIGHT_COUNT'],\n",
    "    'M':airDataPre['SEG_KM_SUM'],\n",
    "    'C':airDataPre['avg_discount']\n",
    "}\n",
    "dataLRFMC = pd.DataFrame(data=tmp,columns=['L','R','F','M','C'])\n",
    "print(\"dataLRFMC.head(3):\\n\",dataLRFMC.head(3))\n",
    "\n",
    "#将timedelta64 -> int32格式\n",
    "import numpy as np\n",
    "print(\"dataLRFMC['L'][:3]:\\n\",dataLRFMC['L'][:3])\n",
    "dayTime = np.timedelta64(1,'D')\n",
    "#如果要变成月的话: monthTime = np.timedelta64(30,'D')\n",
    "print(\"type(dayTime):\",type(dayTime))\n",
    "dataLRFMC[\"L\"]  = (dataLRFMC[\"L\"]/dayTime).astype(int)\n",
    "print(\"dataLRFMC['L'][:3]:\\n\",dataLRFMC['L'][:3])\n",
    "\n",
    "#变换后的DataFrame\n",
    "print(\"dataLRFMC.head(3):\\n\",dataLRFMC.head(3))"
   ]
  },
  {
   "cell_type": "markdown",
   "metadata": {},
   "source": [
    "## 2.3 标准化LRFMC模型特征"
   ]
  },
  {
   "cell_type": "markdown",
   "metadata": {},
   "source": [
    "对构建后的数据进行探索分析，可知五个特征的取值范围差异较大，为了消除数量级带来的影响，要做标准化处理，这里使用标准差标准化"
   ]
  },
  {
   "cell_type": "code",
   "execution_count": 8,
   "metadata": {},
   "outputs": [
    {
     "name": "stdout",
     "output_type": "stream",
     "text": [
      "exploreLRFMC:\n",
      "                   L             R             F              M             C\n",
      "count  62044.000000  62044.000000  62044.000000   62044.000000  62044.000000\n",
      "mean      49.623036    172.532703     11.971359   17321.694749      0.722180\n",
      "std       28.262697    181.526164     14.110619   21052.728111      0.184833\n",
      "min       12.166667      1.000000      2.000000     368.000000      0.136017\n",
      "25%       24.500000     29.000000      3.000000    4874.000000      0.613085\n",
      "50%       42.600000    105.000000      7.000000   10200.000000      0.712162\n",
      "75%       72.733333    260.000000     15.000000   21522.500000      0.809293\n",
      "max      114.566667    731.000000    213.000000  580717.000000      1.500000\n"
     ]
    }
   ],
   "source": [
    "#数据探索\n",
    "exploreLRFMC = airLRFMC.describe()\n",
    "print(\"exploreLRFMC:\\n\",exploreLRFMC)"
   ]
  },
  {
   "cell_type": "markdown",
   "metadata": {},
   "source": [
    "特征名称 | L | R | F | M | C | \n",
    "-:|-:|-:|-:|-:|-:|\n",
    "min|12.17|1.0|2.0|368.0 |0.136016589|\n",
    "max|114.57|731.0|213.0|580717.0 |1.5|"
   ]
  },
  {
   "cell_type": "code",
   "execution_count": null,
   "metadata": {},
   "outputs": [],
   "source": [
    "#数据标准化(标准差标准化)\n",
    "\n",
    "print(\"type(airLRFMC):\",type(airLRFMC))\n",
    "print(\"airLRFMC.head(3):\\n\",airLRFMC.head(3))\n",
    "#采用标准差标准化\n",
    "from sklearn.preprocessing import StandardScaler\n",
    "#标准化s1： 建立规则  fit()\n",
    "Scaler = StandardScaler().fit(airLRFMC)\n",
    "#标准化s2： 应用规则 transform()\n",
    "dataScaler = Scaler.transform(airLRFMC)\n",
    "# 由于fit()和transform()的应用对象一样，所以以上两个步骤也可以合成一个\n",
    "# 即：dataScaler = StandardScaler().fit_transform(airLRFMC)\n",
    "print(\"type(dataScaler):\",type(dataScaler))\n",
    "print(\"dataScaler[:3,:]\\n\",dataScaler[:3,:])\n",
    "#将标准化的数据保存至文件\n",
    "import numpy as np\n",
    "np.save(\"./dataChap7/dataScaler.npy\",dataScaler)   # 保存为numpy的npy文件\n",
    "np.savez(\"./dataChap7/dataScaler.npz\",dataScaler)   # 保存为numpy的npz文件   #注意npy与npz文件的读取不同之处\n",
    "np.savetxt(\"./dataChap7/dataScaler.csv\",dataScaler,delimiter=\",\")\n",
    "np.savetxt(\"./dataChap7/dataScalerHead.csv\",dataScaler,delimiter=\",\",header=\"ZL,ZR,ZF,ZM,ZC\")\n"
   ]
  },
  {
   "cell_type": "markdown",
   "metadata": {},
   "source": [
    "**还可以自己编写标准差标准化函数，如下：**  "
   ]
  },
  {
   "cell_type": "code",
   "execution_count": 10,
   "metadata": {},
   "outputs": [
    {
     "name": "stdout",
     "output_type": "stream",
     "text": [
      "type(dataZscore): <class 'pandas.core.frame.DataFrame'>\n",
      "dataZscore.head(3):\n",
      "          ZL        ZR         ZF         ZM        ZC\n",
      "0  1.435707 -0.944948  14.034016  26.761154  1.295540\n",
      "1  1.307152 -0.911894   9.073213  13.126864  2.868176\n",
      "2  1.328381 -0.889859   8.718869  12.653481  2.880950\n"
     ]
    }
   ],
   "source": [
    "#采用z-score标准化\n",
    "def Zscore(data):\n",
    "    data = (data-data.mean())/data.std()\n",
    "    data.columns = [\"Z\"+i for i in data.columns]\n",
    "    return data\n",
    "    \n",
    "dataZscore = Zscore(airLRFMC)\n",
    "print(\"type(dataZscore):\",type(dataZscore))\n",
    "print(\"dataZscore.head(3):\\n\",dataZscore.head(3))"
   ]
  },
  {
   "cell_type": "markdown",
   "metadata": {},
   "source": [
    "**分析以上两种标准化方式的结果，可发现：**   \n",
    "**虽然具体的数据一样，但是所得的数据类型不同**  \n",
    "**前者是：<class 'numpy.ndarray'>**  \n",
    "**后者是：<class 'pandas.core.frame.DataFrame'>** "
   ]
  },
  {
   "cell_type": "markdown",
   "metadata": {},
   "source": [
    "# 3 K-Means聚类\n",
    "\n",
    "K-Means聚类算法简单易行，适用于大中型数据量。  \n",
    "**本节任务：**  \n",
    "(1) 了解K-Means算法基本原理  \n",
    "(2) 使用K-Means算法对航空客户数据聚类分群  \n",
    "(3) 应用模型聚类结果定制营销方案"
   ]
  },
  {
   "cell_type": "markdown",
   "metadata": {},
   "source": [
    "## 3.1 K-Means聚类算法的基本原理"
   ]
  },
  {
   "cell_type": "markdown",
   "metadata": {},
   "source": [
    "### 3.1.1  KMeans算法原理及步骤"
   ]
  },
  {
   "cell_type": "markdown",
   "metadata": {},
   "source": [
    "K-Means聚类是一种基于质心的划分方法，输入聚类个数k，应用于n个数据对象，可输出满足**误差平方和最小**的k个聚类。  \n",
    "**算法步骤：**  \n",
    "(1) 从n个样本中随机选取k个对象作为初始的聚类中心；  \n",
    "(2) 分别计算每个样本到各个聚类质心的距离，并将样本分配到距离最近的那个聚类中心类别中；  \n",
    "(3) 所有样本分配完成后，再次计算k个聚类的中心；  \n",
    "(4) 与前一次计算得到的k个聚类中心比较，如果聚类中心发生变化，转(2)，否则转(5)；  \n",
    "(5) 当质心不发生变化时停止并输出聚类结果。\n",
    "\n",
    "**算法优缺点：**  \n",
    "■优点：原理简单，易于实现，计算复杂度较小。  \n",
    "■缺点：  \n",
    "▲ 缺点1：过分依赖初始值选择，一旦初始值选的不好，可能无法的到有效的聚类结果；  \n",
    "▲ 缺点2：需要预先给定k值，这是最困难的一点；    \n",
    "▲ 缺点3：对离群点非常敏感，容易使质心偏移。"
   ]
  },
  {
   "cell_type": "markdown",
   "metadata": {},
   "source": [
    "### 3.1.2 Kmeans研究的数据类型"
   ]
  },
  {
   "cell_type": "markdown",
   "metadata": {},
   "source": [
    "K-Means聚类算法是在**数值类型**数据的基础上进行研究，然而数据分析的样本复杂多样，因此要求不仅能够对特征为数值类型的数据进行分析，还要对不同特征做不同变换以适应数据类型的变化，满足算法的要求。"
   ]
  },
  {
   "cell_type": "markdown",
   "metadata": {},
   "source": [
    "### 3.1.3 KMeans函数语法及参数"
   ]
  },
  {
   "cell_type": "markdown",
   "metadata": {},
   "source": [
    "sklearn.cluster模块中提供了KMeans函数来构建K-Means聚类模型   \n",
    "**基本语法：**   \n",
    "KMeans(n_clusters=8, init='k-means++', n_init=10, max_iter=300, tol=0.0001, precompute_distances='auto', verbose=0, random_state=None, copy_x=True, n_jobs=None, algorithm='auto')"
   ]
  },
  {
   "cell_type": "code",
   "execution_count": null,
   "metadata": {},
   "outputs": [],
   "source": [
    "#使用K-Means算法对航空客户信息进行聚类分析\n",
    "import numpy as np\n",
    "from sklearn.cluster import KMeans\n",
    "help(KMeans)"
   ]
  },
  {
   "cell_type": "markdown",
   "metadata": {},
   "source": [
    "|参数名称及默认值 | 说明 | \n",
    "|:-:|:-:|\n",
    "n_clusters=8|接收int，表示分类簇的数量，很重要的参数，需要给定|\n",
    "init='k-means++'|接收string，表示初始值选择策略。'k-means++'表示选择的初始均值向量之间距离较远，效果较好； 'random'表示随机选取；还可以用 ndarray自定义初始均值向量，形状为(n_clusters, n_features)|\n",
    "n_init=10|接收int，表示算法运行的次数|\n",
    "max_iter=300|接收int，表示做大迭代次数|\n",
    "tol=0.0001|接收float，表示算法收敛的阈值|\n",
    "precompute_distances='auto' |接收boolean或auto，表示是否提前计算好样本之间的距离；若为auto，当 n_samples * n_clusters>12 million不会提前计算，因为会占用太大内存为|\n",
    "verbose=0|接收int，0表示不输出日志；1表示每个一段时间输出一次日志；数值越大输出日志越频繁|\n",
    "random_state=None|接收int，表随机生成器的种子|\n",
    "copy_x=True|当precompute_distances=True时，首先要做的事对数据进行中心处理。如果copy_x为True(默认值)，则不修改原始数据。如果为False，则在修改原始数据。|\n",
    "n_jobs=None|接收int，表示计算使用的CPU数量，None表示1个，-1表示使用全部|\n",
    "algorithm='auto'|选择K-means使用的具体算法，可取\"auto\", \"full\" or \"elkan\"。“auto”会自动选择“elkan”用于密集数据，“full”用于稀疏数据。“full”是经典的EM-style算法 ；“elkan”的效率更高，但目前不支持稀疏数据|"
   ]
  },
  {
   "cell_type": "markdown",
   "metadata": {},
   "source": [
    "#### 3.1.3.1 聚类分析S1: 读取数据"
   ]
  },
  {
   "cell_type": "code",
   "execution_count": 12,
   "metadata": {},
   "outputs": [
    {
     "name": "stdout",
     "output_type": "stream",
     "text": [
      "data[:3,:]\n",
      " [[ 1.43571897 -0.94495516 14.03412875 26.76136996  1.29555058]\n",
      " [ 1.30716214 -0.9119018   9.07328567 13.1269701   2.86819902]\n",
      " [ 1.32839171 -0.88986623  8.71893974 12.65358345  2.88097321]]\n"
     ]
    }
   ],
   "source": [
    "#航空客户信息价值分析K-Means聚类\n",
    "import numpy as np\n",
    "from sklearn.cluster import KMeans\n",
    "#聚类分析S1: 读取数据\n",
    "data = np.load(\"./dataChap7/dataScaler.npy\")                 #这两个data数据是一样的\n",
    "data = np.load(\"./dataChap7/dataScaler.npz\")[\"arr_0\"]        #注意弄清读取npy与npz文件的区别\n",
    "#data = np.loadtxt(\"./dataChap7/dataScaler.csv\",delimiter=\",\")  \n",
    "print(\"data[:3,:]\\n\",data[:3,:])"
   ]
  },
  {
   "cell_type": "markdown",
   "metadata": {},
   "source": [
    "#### 3.1.3.2 聚类分析S2: 选取k(簇个数)"
   ]
  },
  {
   "cell_type": "markdown",
   "metadata": {},
   "source": [
    "首先选取聚类的类别个数，就是对原始数据聚类事先不知道分成几类合适，那怎么确定呢？   \n",
    "◆**inertias：**是K-Means模型对象的一个属性，它作为没有真实分类结果标签下的非监督式评估指标。表示样本到最近的聚类中心的距离总和。值越小越好，越小表示样本在类间的分布越集中。   \n",
    "◆使用**肘方法**确定簇的最佳数量，通过画出不同k值对应的聚类偏差图，可以清楚看出：聚类偏差变化减缓的k值点，就是最佳分类k值。  "
   ]
  },
  {
   "cell_type": "code",
   "execution_count": 13,
   "metadata": {},
   "outputs": [
    {
     "data": {
      "text/plain": [
       "<Figure size 640x480 with 1 Axes>"
      ]
     },
     "metadata": {},
     "output_type": "display_data"
    }
   ],
   "source": [
    "#导入库\n",
    "import numpy as np\n",
    "import pandas as pd\n",
    "import matplotlib.pyplot as plt\n",
    "from sklearn.cluster import KMeans   \n",
    "\n",
    "#导入数据\n",
    "x= data\n",
    "#肘方法看k值\n",
    "d=[]\n",
    "for i in range(1,11):   #k取值2~10，做kmeans聚类，看不同k值对应的簇内误差平方和\n",
    "    km = KMeans(n_clusters=i,init='k-means++',n_init=10,max_iter=300,random_state=0)\n",
    "    km.fit(x)\n",
    "    d.append(km.inertia_)  #inertia簇内误差平方和\n",
    "\n",
    "plt.plot(range(1,11),d,marker='o')\n",
    "plt.xlabel('number of clusters')\n",
    "plt.ylabel('distortions')\n",
    "plt.savefig(\"./temp/kSelect.png\")\n",
    "plt.show()"
   ]
  },
  {
   "cell_type": "markdown",
   "metadata": {},
   "source": [
    "#### 3.1.3.3 聚类分析S3: 已知k后，构建模型 并 训练模型"
   ]
  },
  {
   "cell_type": "code",
   "execution_count": 14,
   "metadata": {},
   "outputs": [],
   "source": [
    "#由肘图确定 k=5\n",
    "k = 5\n",
    "\n",
    "#聚类分析S3: 构建模型 并 训练模型\n",
    "kmeansModel = KMeans(n_clusters=k,n_jobs=4,random_state=110).fit(data)"
   ]
  },
  {
   "cell_type": "markdown",
   "metadata": {},
   "source": [
    "### 3.1.4 K-Means模型属性\n",
    "\n",
    "**K-Means模型构建并训练完后，我们需要获取模型最终的分类信息，包括聚类中心、样本的类别标签、不同类别的样本数等**"
   ]
  },
  {
   "cell_type": "markdown",
   "metadata": {},
   "source": [
    "属性名称 |说明 | \n",
    ":-:|:-:|\n",
    "cluster_centers_|返回ndaray，表示分类簇的均值向量，即聚类中心点|\n",
    "labels_|返回ndaray，表示样本的所属的簇的标记，即样本类别标签|\n",
    ".inertia_|返回ndaray，表示每个样本距离他们各自最近簇中心之和|\n"
   ]
  },
  {
   "cell_type": "markdown",
   "metadata": {},
   "source": [
    "#### 3.1.4.1 获取聚类属性"
   ]
  },
  {
   "cell_type": "code",
   "execution_count": 15,
   "metadata": {
    "scrolled": true
   },
   "outputs": [
    {
     "name": "stdout",
     "output_type": "stream",
     "text": [
      "labels: [4 4 4 ... 0 1 1]   len(labels): 62044\n",
      "clusters: {0, 1, 2, 3, 4}\n",
      "count:\n",
      " 0    24659\n",
      "2    15740\n",
      "1    12125\n",
      "4     5336\n",
      "3     4184\n",
      "dtype: int64\n",
      "center:\n",
      " [[-0.7002121  -0.41489162 -0.16114387 -0.16095881 -0.25513359]\n",
      " [-0.31368082  1.68627205 -0.57402062 -0.53682451 -0.1733275 ]\n",
      " [ 1.16067608 -0.37722423 -0.08691922 -0.09484481 -0.15590586]\n",
      " [ 0.05184321 -0.00266815 -0.22680493 -0.23125594  2.19136467]\n",
      " [ 0.48333235 -0.7993897   2.48322162  2.42474345  0.30863251]]\n"
     ]
    }
   ],
   "source": [
    "#输出保存模型属性：聚类类别，聚类个数，聚类中心等\n",
    "import pandas as pd\n",
    "labels = kmeansModel.labels_        #所有样本的类别标签\n",
    "clusters = set(labels)              #类别种类\n",
    "count = pd.Series(labels).value_counts()#类别中的样本数（会自动排序）\n",
    "center = kmeansModel.cluster_centers_   #所有特征的聚类中心 \n",
    "inertia = kmeansModel.inertia_          #所有类别的样本中心距\n",
    "\n",
    "print(\"labels:\",labels,\"  len(labels):\",len(labels))  #类别标签\n",
    "print(\"clusters:\",clusters)    #类别\n",
    "print(\"count:\\n\",count)        #每类中的样本数统计\n",
    "print(\"center:\\n\",center)      #每个特征的聚类中心\n"
   ]
  },
  {
   "cell_type": "markdown",
   "metadata": {},
   "source": [
    "#### 3.1.4.2 整理聚类属性并保存至CSV"
   ]
  },
  {
   "cell_type": "code",
   "execution_count": 16,
   "metadata": {},
   "outputs": [
    {
     "name": "stdout",
     "output_type": "stream",
     "text": [
      "<class 'numpy.ndarray'>\n",
      "<class 'pandas.core.frame.DataFrame'>\n",
      "    0      1         0         1         2         3         4\n",
      "0  C0  24659 -0.700212 -0.414892 -0.161144 -0.160959 -0.255134\n",
      "1  C1  12125 -0.313681  1.686272 -0.574021 -0.536825 -0.173328\n",
      "2  C2  15740  1.160676 -0.377224 -0.086919 -0.094845 -0.155906\n",
      "3  C3   4184  0.051843 -0.002668 -0.226805 -0.231256  2.191365\n",
      "4  C4   5336  0.483332 -0.799390  2.483222  2.424743  0.308633\n",
      "dataResult:\n",
      "   Class  Count        ZL        ZR        ZF        ZM        ZC\n",
      "0    C0  24659 -0.700212 -0.414892 -0.161144 -0.160959 -0.255134\n",
      "1    C1  12125 -0.313681  1.686272 -0.574021 -0.536825 -0.173328\n",
      "2    C2  15740  1.160676 -0.377224 -0.086919 -0.094845 -0.155906\n",
      "3    C3   4184  0.051843 -0.002668 -0.226805 -0.231256  2.191365\n",
      "4    C4   5336  0.483332 -0.799390  2.483222  2.424743  0.308633\n"
     ]
    }
   ],
   "source": [
    "#把以上count，center信息写入到csv文件里\n",
    "Count = count       #类别中的样本计数\n",
    "#print(count)\n",
    "print(type(center))\n",
    "dfCenter = pd.DataFrame(center)   #聚类中心数据由darray->df\n",
    "print(type(dfCenter ))\n",
    "#print(dfCenter)\n",
    "Class = pd.Series(['C0','C1','C2','C3','C4'])   #添加类别系列\n",
    "dataResult = pd.concat([Class,Count,dfCenter],axis=1)  #横向合并系列与df\n",
    "print(dataResult)\n",
    "dataResult.columns = ['Class','Count','ZL','ZR','ZF','ZM','ZC']  #重命名系列\n",
    "print(\"dataResult:\\n\",dataResult)\n",
    "file = \"./dataChap7/airClusterResult.csv\"\n",
    "dataResult.to_csv(file,sep=\",\",index=False)   #写入文件"
   ]
  },
  {
   "cell_type": "markdown",
   "metadata": {},
   "source": [
    "**另一种方法：实现分类结果dataResult，如下：**"
   ]
  },
  {
   "cell_type": "code",
   "execution_count": 26,
   "metadata": {},
   "outputs": [
    {
     "name": "stdout",
     "output_type": "stream",
     "text": [
      "   ZL_Center  ZR_Center  ZF_Center  ZM_Center  ZC_Center  SampleSize  \\\n",
      "0  -0.700212  -0.414892  -0.161144  -0.160959  -0.255134       24659   \n",
      "1  -0.313681   1.686272  -0.574021  -0.536825  -0.173328       12125   \n",
      "2   1.160676  -0.377224  -0.086919  -0.094845  -0.155906       15740   \n",
      "3   0.051843  -0.002668  -0.226805  -0.231256   2.191365        4184   \n",
      "4   0.483332  -0.799390   2.483222   2.424743   0.308633        5336   \n",
      "\n",
      "  ClusterCategory  \n",
      "0          Class0  \n",
      "1          Class1  \n",
      "2          Class2  \n",
      "3          Class3  \n",
      "4          Class4  \n",
      "dataZscore.head(3):\n",
      "          ZL        ZR         ZF         ZM        ZC\n",
      "0  1.435707 -0.944948  14.034016  26.761154  1.295540\n",
      "1  1.307152 -0.911894   9.073213  13.126864  2.868176\n",
      "2  1.328381 -0.889859   8.718869  12.653481  2.880950\n",
      "detail.head(3):\n",
      "          ZL        ZR         ZF         ZM        ZC  ClusterCategory\n",
      "0  1.435707 -0.944948  14.034016  26.761154  1.295540                4\n",
      "1  1.307152 -0.911894   9.073213  13.126864  2.868176                4\n",
      "2  1.328381 -0.889859   8.718869  12.653481  2.880950                4\n"
     ]
    }
   ],
   "source": [
    "#模型为kmeansModel,数据为DF类型的dataZscore\n",
    "#简单输出聚类中心与分类样本数目\n",
    "myCenter = pd.DataFrame(kmeansModel.cluster_centers_)   #聚类中心\n",
    "myCount = pd.Series(kmeansModel.labels_).value_counts()  #统计每个类别中样本数目\n",
    "myClass = pd.Series(['Class'+ str(i) for i in range(5)])\n",
    "myResult  = pd.concat([myCenter,myCount,myClass],axis=1)\n",
    "columnsCenter = [col+\"_Center\" for col in dataZscore.columns]\n",
    "myResult.columns = columnsCenter + [\"SampleSize\",\"ClusterCategory\"]   #新加样本数量，聚类类别系列名\n",
    "print(myResult)\n",
    "\n",
    "#详细输出原始数据及其类别\n",
    "print(\"dataZscore.head(3):\\n\",dataZscore.head(3))   #dataZscore为Z标准化后的DF数据集，见2.3\n",
    "classLabels = pd.Series(kmeansModel.labels_,index=dataZscore.index) #每个样本对应类别\n",
    "detail = pd.concat([dataZscore,classLabels],axis=1)\n",
    "detail.columns = list(dataZscore.columns) + [\"ClusterCategory\"]\n",
    "print(\"detail.head(3):\\n\",detail.head(3))\n"
   ]
  },
  {
   "cell_type": "markdown",
   "metadata": {},
   "source": [
    "**为数据集airDataPre添上类标签**"
   ]
  },
  {
   "cell_type": "code",
   "execution_count": null,
   "metadata": {},
   "outputs": [],
   "source": [
    "import pandas as pd\n",
    "\n",
    "print(\"airDataPre.shape:\",airDataPre.shape)\n",
    "labels = kmeansModel.labels_   #获取聚类结果的类别标签\n",
    "print(\"len(labels):\",len(labels))\n",
    "classLabels = pd.Series(labels,index=airDataPre.index) #创建类别系列\n",
    "airDataWithClass = pd.concat([airDataPre,classLabels],axis=1)  #将类别系列合并到airDataPre中\n",
    "airDataWithClass.columns = list(airDataPre.columns) + [\"ClusterCategory\"] #添加系列名称\n",
    "print(\"airDataWithClass.shape:\",airDataWithClass.shape)\n"
   ]
  },
  {
   "cell_type": "markdown",
   "metadata": {},
   "source": [
    "**在DF数据集(airDataWithClass)中选取用户特征及分类特征组成用户分类数据集(customerCluster)**"
   ]
  },
  {
   "cell_type": "code",
   "execution_count": 36,
   "metadata": {},
   "outputs": [
    {
     "name": "stdout",
     "output_type": "stream",
     "text": [
      "customerCluster.head(3):\n",
      "    MemberNo Gender   Age WorkCity    FFPdate  ClusterCategory\n",
      "0     54993      男  31.0        .  2006/11/2                4\n",
      "1     28065      男  42.0      NaN  2007/2/19                4\n",
      "2     55106      男  40.0        .   2007/2/1                4\n"
     ]
    }
   ],
   "source": [
    "#在DF数据集airDataWithClass中，选择如下用户特征：\n",
    "#'MEMBER_NO','GENDER','AGE', 'WORK_CITY', 'FFP_DATE','ClusterCategory',\n",
    "#并将信息保存到customerCluster.csv中\n",
    "#print(\"airDataWithClass.columns:\\n\",airDataWithClass.columns)\n",
    "\n",
    "tmp = {\n",
    "    'MemberNo':airDataWithClass['MEMBER_NO'],\n",
    "    'Gender':airDataWithClass['GENDER'],\n",
    "    'Age':airDataWithClass['AGE'],\n",
    "    'WorkCity':airDataWithClass['WORK_CITY'],\n",
    "    'FFPdate':airDataWithClass['FFP_DATE'], \n",
    "    'ClusterCategory': airDataWithClass['ClusterCategory']\n",
    "}\n",
    "customerCluster = pd.DataFrame(data=tmp,columns=['MemberNo','Gender','Age','WorkCity','FFPdate','ClusterCategory'])\n",
    "print(\"customerCluster.head(3):\\n\",customerCluster.head(3))\n",
    "customerCluster.to_csv(\"./temp/customerCluster.csv\",sep=\",\",encoding='gb18030')"
   ]
  },
  {
   "cell_type": "markdown",
   "metadata": {},
   "source": [
    "#### 3.1.4.3 按类别分解airDataPre.csv->多个类别的csv中\n",
    "\n",
    "**airDataPre.csv**是源数\"airSource.csv\"经过数预处理后的文件，见2.2.1"
   ]
  },
  {
   "cell_type": "code",
   "execution_count": null,
   "metadata": {},
   "outputs": [],
   "source": [
    "#获取类别中记录的索引index，就是分析样本的类别标签属性：kmeansModel.labels_ \n",
    "# 已知数据已被分成了5类\n",
    "import numpy as np\n",
    "k = 5     \n",
    "labels = kmeansModel.labels_        #所有样本的类别标签\n",
    "clusters = set(labels)              #类别种类\n",
    "print(\"clusters:\",clusters)\n",
    "\n",
    "#以类别0为例\n",
    "cluster0 = np.where(labels == 0)    #类别为0的结果，返回tuple，(indesArr,dtype)\n",
    "print(\"cluster0:\",cluster0)\n",
    "C0_index = cluster0[0]    #获取类0的样本索引\n",
    "print(\"C0_index:\",C0_index)\n",
    "\n",
    "#循环实现：获取5个类别中的样本索引\n",
    "indexList = []   #存放5个索引arr\n",
    "for j in range(k):\n",
    "    clusterj = np.where(labels==j)\n",
    "    Cj_index = clusterj[0]\n",
    "    indexList.append(Cj_index)\n",
    "    \n",
    "#根据indexList中的5个indexArr，分类取出airDataPre中的记录，分别存放到5个csv中\n",
    "\n",
    "#先以类0为例\n",
    "indexArri = indexList[0]\n",
    "clusterData = airDataPre.loc[indexArri]\n",
    "print(clusterData.head(3))\n",
    "\n",
    "#用循环实现\n",
    "for i in range(k):\n",
    "    clusterData = airDataPre.loc[indexList[i]]\n",
    "    fileName = \"./temp/airCluster\" + str(i) + \".csv\" \n",
    "    clusterData.to_csv(fileName,sep=\",\",index=False,encoding=\"gb18030\")\n",
    "print(\"airCluster files done,check ./temp/\")"
   ]
  },
  {
   "cell_type": "markdown",
   "metadata": {},
   "source": [
    "**把DF数据集(airDataWithClass)根据'ClusterCategory'特征分解成几个类别数据集并保存成csv**"
   ]
  },
  {
   "cell_type": "code",
   "execution_count": 44,
   "metadata": {},
   "outputs": [
    {
     "name": "stdout",
     "output_type": "stream",
     "text": [
      "(24659, 45)\n",
      "{0, 1, 2, 3, 4}\n",
      "airClusterCategory files done,check ./temp/\n"
     ]
    }
   ],
   "source": [
    "#print(airDataWithClass.head(3))\n",
    "#以类0为例\n",
    "dataCluster0 = airDataWithClass.loc[airDataWithClass[\"ClusterCategory\"]==0]\n",
    "print(dataCluster0.shape)\n",
    "\n",
    "clusters = set(airDataWithClass[\"ClusterCategory\"])  #获取列表标签\n",
    "print(clusters)\n",
    "\n",
    "#使用循环实现\n",
    "for c in clusters:\n",
    "    dataCluster = airDataWithClass.loc[airDataWithClass[\"ClusterCategory\"]==c]\n",
    "    file = \"./temp/airClusterCategory\" + str(c) + \".csv\"\n",
    "    dataCluster.to_csv(file,sep=\",\",encoding='gb18030')\n",
    "print(\"airClusterCategory files done,check ./temp/\")\n"
   ]
  },
  {
   "cell_type": "markdown",
   "metadata": {},
   "source": [
    "## 3.2 分析聚类结果"
   ]
  },
  {
   "cell_type": "markdown",
   "metadata": {},
   "source": [
    "### 3.2.1 类的特征分布\n",
    "聚类结果dataResult已经保存在\"./dataChap7/airClusterResult.csv\"中"
   ]
  },
  {
   "cell_type": "code",
   "execution_count": 47,
   "metadata": {},
   "outputs": [
    {
     "name": "stdout",
     "output_type": "stream",
     "text": [
      "  Class  Count        ZL        ZR        ZF        ZM        ZC\n",
      "0    C0  24659 -0.700212 -0.414892 -0.161144 -0.160959 -0.255134\n",
      "1    C1  12125 -0.313681  1.686272 -0.574021 -0.536825 -0.173328\n",
      "2    C2  15740  1.160676 -0.377224 -0.086919 -0.094845 -0.155906\n",
      "3    C3   4184  0.051843 -0.002668 -0.226805 -0.231256  2.191365\n",
      "4    C4   5336  0.483332 -0.799390  2.483222  2.424743  0.308633\n"
     ]
    }
   ],
   "source": [
    "print(dataResult)"
   ]
  },
  {
   "cell_type": "markdown",
   "metadata": {},
   "source": [
    "根据聚类中心绘制客户群特征分布雷达图"
   ]
  },
  {
   "cell_type": "code",
   "execution_count": 66,
   "metadata": {},
   "outputs": [
    {
     "data": {
      "image/png": "[encoded data removed]",
      "text/plain": [
       "<Figure size 504x504 with 1 Axes>"
      ]
     },
     "metadata": {},
     "output_type": "display_data"
    }
   ],
   "source": [
    "import matplotlib\n",
    "import matplotlib.pyplot as plt\n",
    "import numpy as np\n",
    "#s1:设置中文显示及绘图风格\n",
    "matplotlib.rcParams['font.family'] =  'SimHei'\n",
    "matplotlib.rcParams['font.sans-serif'] = ['SimHei'] \n",
    "matplotlib.rcParams['axes.unicode_minus'] = False  # 设置正常显示负号\n",
    "plt.style.use(\"ggplot\")\n",
    "\n",
    "#s2:数据与标签\n",
    "dataCenter = dataResult[[ 'ZL', 'ZR', 'ZF', 'ZM', 'ZC']]\n",
    "# features = list(dataResult.columns)\n",
    "# print(\"features:\",features)\n",
    "# labels = features[2:]\n",
    "# print(\"labels:\",labels)\n",
    "# labels = np.array(labels)\n",
    "labels = np.array(['ZL', 'ZR', 'ZF', 'ZM', 'ZC'])\n",
    "dataLenth = len(labels)\n",
    "\n",
    "N = len(dataCenter)   #绘制图形个数\n",
    "\n",
    "\n",
    "#s3:绘制雷达图\n",
    "#s3_1: 设置角度，用于平分圆面\n",
    "angels = np.linspace(0,2*np.pi,dataLenth,endpoint=False)\n",
    "#s3_2: 封闭数据\n",
    "data = pd.concat([dataCenter,dataCenter.iloc[:,0]],axis=1)  #即ZC后面要接ZL\n",
    "#s3_3: 封闭图形\n",
    "angles = np.concatenate((angels,[angels[0]]))\n",
    "#s3_4: 设置画布与极坐标系\n",
    "fig = plt.figure(figsize=(7,7))\n",
    "ax = fig.add_subplot(111,polar=True) #111代表在一个画布上绘制多个图形\n",
    "#s3_5: 绘制线条\n",
    "for i in range(N):\n",
    "    ax.plot(angles,data.iloc[i,:],'o-',linewidth=2,label='Customers'+str(i))\n",
    "    \n",
    "#ax.fill(angles,data,facecolor='r',alpha=0.25)  # 填充\n",
    "\n",
    "#s3_6: 添加特征标签\n",
    "ax.set_thetagrids(angles*180/np.pi,labels)\n",
    "#s3_7: 添加标题\n",
    "ax.set_title(\"客户群特征分布图\",va='bottom',fontproperties='simHei') #使用黑体\n",
    "#s3_8: 设置雷达图范围\n",
    "L = dataCenter.min\n",
    "R = dataCenter.max\n",
    "ax.set_rlim(-1,2.5)\n",
    "#s3_9: 添加网线\n",
    "ax.grid(True)\n",
    "#s3_10: 添加图例\n",
    "plt.legend()\n",
    "#s4:先保存后显示\n",
    "plt.savefig('./imgChap7/custormerDistribution.png')\n",
    "plt.show()\n",
    "\n"
   ]
  },
  {
   "cell_type": "markdown",
   "metadata": {},
   "source": [
    "### 3.2.2 客户价值分析"
   ]
  },
  {
   "cell_type": "markdown",
   "metadata": {},
   "source": [
    "客户价值排名,根据值的大小顺序，输出相应数量的*号，表示价值大小，星号越多，价值越高"
   ]
  },
  {
   "cell_type": "code",
   "execution_count": 111,
   "metadata": {},
   "outputs": [
    {
     "name": "stdout",
     "output_type": "stream",
     "text": [
      "dataResult:\n",
      "   Class  Count        ZL        ZR        ZF        ZM        ZC\n",
      "0    C0  24659 -0.700212 -0.414892 -0.161144 -0.160959 -0.255134\n",
      "1    C1  12125 -0.313681  1.686272 -0.574021 -0.536825 -0.173328\n",
      "2    C2  15740  1.160676 -0.377224 -0.086919 -0.094845 -0.155906\n",
      "3    C3   4184  0.051843 -0.002668 -0.226805 -0.231256  2.191365\n",
      "4    C4   5336  0.483332 -0.799390  2.483222  2.424743  0.308633\n",
      "valueDF:\n",
      "   Class  Count     ZL     ZR     ZF     ZM     ZC\n",
      "0    C0  24659      *   ****    ***    ***      *\n",
      "1    C1  12125     **      *      *      *     **\n",
      "2    C2  15740  *****    ***   ****   ****    ***\n",
      "3    C3   4184    ***     **     **     **  *****\n",
      "4    C4   5336   ****  *****  *****  *****   ****\n"
     ]
    }
   ],
   "source": [
    "print(\"dataResult:\\n\",dataResult)\n",
    "\n",
    "# 函数功能是将serie中的值，按值的升序/降序转成相应数量的*号\n",
    "def valueStar(serie,reverse=False):\n",
    "    starList=[]\n",
    "    sortedData = sorted(serie,reverse=reverse)\n",
    "    \n",
    "    for item in serie:\n",
    "        index = sortedData.index(item)\n",
    "        stars =  \"*\"*(index+1)\n",
    "        starList.append(stars)       \n",
    "    return starList \n",
    "\n",
    "# serie1 = [3,2,5,1,7]\n",
    "# print(valueStar(serie1))\n",
    "# print(valueStar(serie1,reverse=True))\n",
    "\n",
    "\n",
    "valueDF = pd.concat([valueDF['Class'],valueDF[\"Count\"]],axis=1)\n",
    "dataCenter = dataResult[[ 'ZL', 'ZR', 'ZF', 'ZM', 'ZC']]\n",
    "columns = dataCenter.columns\n",
    "\n",
    "for col in columns:\n",
    "    serie = dataCenter[col]\n",
    "    if col == 'ZR':            #说明：ZR采用降序，原因是其值越大，代表长时间没有光顾，价值越低\n",
    "        reverse = True\n",
    "    else:\n",
    "        reverse = False\n",
    "    stars = valueStar(serie,reverse=reverse)\n",
    "    starsSerie = pd.Series(stars,index=dataCenter.index,name=col)\n",
    "    valueDF = pd.concat([valueDF,starsSerie],axis=1)\n",
    "    \n",
    "print(\"valueDF:\\n\",valueDF)\n"
   ]
  },
  {
   "cell_type": "markdown",
   "metadata": {},
   "source": [
    "**根据valueDF表格，再结合客户群特征分布图进行客户价值分析**   \n",
    "**哪一类中的*号多，就表明价值高**  \n",
    "重点关注的是L（户关系长度）、F（消费频率）、M（飞行里程）三个指标：    \n",
    "客户群0（Customers 0）在L、C属性上最小，可定义为一般客户；  \n",
    "客户群1（Customers 1）可定义为低价值客户；  \n",
    "客户群2（Customers 2）在L属性上最大，可定义为重要挽留客户；  \n",
    "客户群3（Customers 3）在C属性上最大，可定义为重要发展客户；  \n",
    "客户群4（Customers 4）可定义为重要保持客户   "
   ]
  },
  {
   "cell_type": "markdown",
   "metadata": {},
   "source": [
    "C4:重要保持客户  C2:重要挽留客户  C3:重要发展客户  C0:一般客户  C1:低价值客户"
   ]
  },
  {
   "cell_type": "markdown",
   "metadata": {},
   "source": [
    "### 3.2.3 类的数量分布\n",
    "聚类结果dataResult已经保存在\"./dataChap7/airClusterResult.csv\"中"
   ]
  },
  {
   "cell_type": "markdown",
   "metadata": {},
   "source": [
    "根据类别中样本统计数绘制样本柱形图 与 饼图"
   ]
  },
  {
   "cell_type": "code",
   "execution_count": 70,
   "metadata": {},
   "outputs": [
    {
     "name": "stdout",
     "output_type": "stream",
     "text": [
      "0    24659\n",
      "1    12125\n",
      "2    15740\n",
      "3     4184\n",
      "4     5336\n",
      "Name: Count, dtype: int64\n",
      "0    C0\n",
      "1    C1\n",
      "2    C2\n",
      "3    C3\n",
      "4    C4\n",
      "Name: Class, dtype: object\n"
     ]
    },
    {
     "data": {
      "image/png": "[encoded data removed]",
      "text/plain": [
       "<Figure size 864x864 with 2 Axes>"
      ]
     },
     "metadata": {},
     "output_type": "display_data"
    }
   ],
   "source": [
    "import matplotlib\n",
    "import matplotlib.pyplot as plt\n",
    "#s1:设置中文显示及绘图风格\n",
    "matplotlib.rcParams['font.family'] =  'SimHei'\n",
    "matplotlib.rcParams['font.sans-serif'] = ['SimHei'] \n",
    "matplotlib.rcParams['axes.unicode_minus'] = False  # 设置正常显示负号\n",
    "\n",
    "##s2:数据与标签\n",
    "dataCount = dataResult['Count']\n",
    "labels = dataResult['Class']\n",
    "dataLenth = len(labels)\n",
    "print(dataCount)\n",
    "print(labels)\n",
    "\n",
    "fig = plt.figure(figsize=(12,12))\n",
    "#子图1 柱形图\n",
    "ax1 = fig.add_subplot(2,1,1)\n",
    "plt.bar(range(dataLenth),dataCount,width=0.5)\n",
    "plt.xlabel(\"客户类别\")\n",
    "plt.ylabel(\"客户数量\")\n",
    "plt.xticks(range(dataLenth),labels)\n",
    "plt.title(\"客户群数量分布\")\n",
    "\n",
    "#子图2 饼图\n",
    "ax2 = fig.add_subplot(2,1,2)\n",
    "explode = [0.01]*dataLenth\n",
    "plt.pie(dataCount,explode,labels=labels,autopct=\"%1.1f%%\")\n",
    "plt.title(\"客户群数量占比\")\n",
    "\n",
    "#保存并显示\n",
    "plt.show()"
   ]
  },
  {
   "cell_type": "markdown",
   "metadata": {},
   "source": [
    "**C0:一般客户  C1:低价值客户  C2:重要发展客户  C3:重要挽留客户  C4:重要保持客户**  \n",
    "◆ 重要保持客户、重要发展客户占比15.3%，不足两成，整体较少\n",
    "一般客户、低价值客户占比59.3%，接近六成，整体偏多\n",
    "重要挽留客户占比25.4%，接近四分之一，整体发挥空间大\n",
    "按照20/80法则：一般而言企业的80%收入由头部20%的用户贡献。从上图中也能发现：忠诚的重要保留客户、中发展客户必然贡献了企业收入的绝大部分，企业也需要投入资源服务好这部分客户。\n",
    "\n",
    "同时，重要保持客户、重要发展客户、重要挽留客户这三类客户其实也对应着客户生命周期中的发展期、稳定器、衰退期三个时期。从客户生命周期的角度讲，也应重点投入资源召回衰退期的客户。\n",
    "\n",
    "一般而言，数据分析最终的目的是针对分析结果提出并开展一系列的运营/营销策略，以期帮助企业发展。在本实例中，运营策略有三个方向：\n",
    "\n",
    "提高活跃度：提高一般客户、低价值客户的活跃度。将其转化为优质客户\n",
    "提高留存率：与重要挽留客户互动，提高这部分用户的留存率\n",
    "提高付费率：维系重要保持客户、重要发展客户的忠诚度，保持企业良好收入\n",
    "每个方向对应不同的策略，如会员升级、积分兑换、交叉销售、发放折扣券等手段，此处不再展开。\n"
   ]
  },
  {
   "cell_type": "markdown",
   "metadata": {},
   "source": [
    "## 3.3 模型应用,应用聚类结果"
   ]
  },
  {
   "cell_type": "markdown",
   "metadata": {},
   "source": [
    "根据以上分析结果，指定营销策略，主要包括：\n",
    "1）会员升级与保级（积分削减等）\n",
    "在会员升级或保级评价的时间点前，对接近但尚未达到要求的较高消费客户进行提醒或促销活动，提高客户满意度。\n",
    "2）首次兑换\n",
    "对接近但尚未达到标准的会员进行提醒或促销活动，提高客户满意度。\n",
    "3）交叉销售\n",
    "通过与非航空类企业的合作，使客户在其他消费过程中获得本公司积分，增强与公司联系，提高忠诚度"
   ]
  },
  {
   "cell_type": "markdown",
   "metadata": {},
   "source": [
    "# 4 小结"
   ]
  },
  {
   "cell_type": "markdown",
   "metadata": {},
   "source": [
    "+ 获取新客成本远大于维持老客，应努力维系客户关系水平，保持优质客户。\n",
    "+ 差异化管理、精准营销，提高客户忠诚度、满意度，延长客户高水平消费。"
   ]
  }
 ],
 "metadata": {
  "kernelspec": {
   "display_name": "Python 3",
   "language": "python",
   "name": "python3"
  },
  "language_info": {
   "codemirror_mode": {
    "name": "ipython",
    "version": 3
   },
   "file_extension": ".py",
   "mimetype": "text/x-python",
   "name": "python",
   "nbconvert_exporter": "python",
   "pygments_lexer": "ipython3",
   "version": "3.7.1"
  },
  "toc": {
   "base_numbering": "0",
   "nav_menu": {},
   "number_sections": false,
   "sideBar": true,
   "skip_h1_title": false,
   "title_cell": "Table of Contents",
   "title_sidebar": "Contents",
   "toc_cell": false,
   "toc_position": {
    "height": "calc(100% - 180px)",
    "left": "10px",
    "top": "150px",
    "width": "266.661px"
   },
   "toc_section_display": true,
   "toc_window_display": false
  }
 },
 "nbformat": 4,
 "nbformat_minor": 2
}
